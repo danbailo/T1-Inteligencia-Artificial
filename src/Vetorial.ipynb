{
 "cells": [
  {
   "cell_type": "markdown",
   "metadata": {},
   "source": [
    "ENTENDER OS DADOS QUE ESTAO SENDO ATUALIZADOS NO LOOP E COMPARA-LOS COM ESTES MESMOS DADOS DA VERSAO ITERATIVA"
   ]
  },
  {
   "cell_type": "code",
   "execution_count": 113,
   "metadata": {},
   "outputs": [],
   "source": [
    "import numpy as np\n",
    "import matplotlib.pyplot as plt"
   ]
  },
  {
   "cell_type": "code",
   "execution_count": 2,
   "metadata": {},
   "outputs": [],
   "source": [
    "def X_array(x):\n",
    "    X = np.ones((len(x),2))\n",
    "    X[:,-1:] = x\n",
    "    return X"
   ]
  },
  {
   "cell_type": "code",
   "execution_count": 3,
   "metadata": {},
   "outputs": [],
   "source": [
    "def THETA_array(theta0,theta1):\n",
    "    return np.array([0,0]).reshape(2,1)"
   ]
  },
  {
   "cell_type": "code",
   "execution_count": 4,
   "metadata": {},
   "outputs": [],
   "source": [
    "def H_array(X, theta):\n",
    "    return np.dot(X,theta)"
   ]
  },
  {
   "cell_type": "code",
   "execution_count": 5,
   "metadata": {},
   "outputs": [],
   "source": [
    "def E_array(h_array, y):\n",
    "    return h_array-y"
   ]
  },
  {
   "cell_type": "code",
   "execution_count": 6,
   "metadata": {},
   "outputs": [],
   "source": [
    "def J_array(m, E):\n",
    "    return (np.dot(E.T,E)/(2*m))"
   ]
  },
  {
   "cell_type": "code",
   "execution_count": 117,
   "metadata": {},
   "outputs": [
    {
     "name": "stdout",
     "output_type": "stream",
     "text": [
      "[[0.00236552]]\n",
      "[[0.21505039]\n",
      " [0.86709155]]\n"
     ]
    }
   ],
   "source": [
    "if __name__ == \"__main__\":\n",
    "    x = np.array([1,2]).reshape(2,1)\n",
    "    m = len(x)\n",
    "    y = np.array([1,2]).reshape(m,1)\n",
    "    X = X_array(x)\n",
    "    theta = THETA_array(0,0)\n",
    "#     alpha=0.45\n",
    "    alpha=0.1\n",
    "    \n",
    "\n",
    "    for i in range(100):\n",
    "        h = H_array(X, theta)\n",
    "        e = E_array(h,y)\n",
    "        J = J_array(len(x),e)\n",
    "        theta = theta - ((alpha/m)*np.dot(X.T,e))\n",
    "\n",
    "    print(J)\n",
    "    print(theta)"
   ]
  },
  {
   "cell_type": "code",
   "execution_count": 118,
   "metadata": {},
   "outputs": [
    {
     "name": "stdout",
     "output_type": "stream",
     "text": [
      "[[1.08214194]\n",
      " [1.94923349]]\n"
     ]
    }
   ],
   "source": [
    "print(theta[0][0] + theta[1][0] * x)"
   ]
  },
  {
   "cell_type": "code",
   "execution_count": 119,
   "metadata": {},
   "outputs": [
    {
     "data": {
      "text/plain": [
       "array([[1],\n",
       "       [2]])"
      ]
     },
     "execution_count": 119,
     "metadata": {},
     "output_type": "execute_result"
    }
   ],
   "source": [
    "x"
   ]
  },
  {
   "cell_type": "code",
   "execution_count": 120,
   "metadata": {},
   "outputs": [
    {
     "data": {
      "text/plain": [
       "[<matplotlib.lines.Line2D at 0x7f47bc984828>]"
      ]
     },
     "execution_count": 120,
     "metadata": {},
     "output_type": "execute_result"
    },
    {
     "data": {
      "image/png": "[encoded data removed]",
      "text/plain": [
       "<Figure size 432x288 with 1 Axes>"
      ]
     },
     "metadata": {
      "needs_background": "light"
     },
     "output_type": "display_data"
    }
   ],
   "source": [
    "plt.plot(x,y)\n",
    "plt.plot(theta[0][0] + theta[1][0] * x,theta[0][0] + theta[1][0] * y)"
   ]
  },
  {
   "cell_type": "code",
   "execution_count": null,
   "metadata": {},
   "outputs": [],
   "source": []
  }
 ],
 "metadata": {
  "kernelspec": {
   "display_name": "Python 3",
   "language": "python",
   "name": "python3"
  },
  "language_info": {
   "codemirror_mode": {
    "name": "ipython",
    "version": 3
   },
   "file_extension": ".py",
   "mimetype": "text/x-python",
   "name": "python",
   "nbconvert_exporter": "python",
   "pygments_lexer": "ipython3",
   "version": "3.6.8"
  }
 },
 "nbformat": 4,
 "nbformat_minor": 4
}
