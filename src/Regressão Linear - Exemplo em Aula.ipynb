{
 "cells": [
  {
   "cell_type": "code",
   "execution_count": 1,
   "metadata": {},
   "outputs": [],
   "source": [
    "import numpy as np\n",
    "import matplotlib.pyplot as plt\n",
    "import seaborn as sns\n",
    "%matplotlib inline"
   ]
  },
  {
   "cell_type": "markdown",
   "metadata": {},
   "source": [
    "Queremos chegar em"
   ]
  },
  {
   "cell_type": "code",
   "execution_count": 2,
   "metadata": {},
   "outputs": [],
   "source": [
    "x = [1,2]\n",
    "y = [1,2]"
   ]
  },
  {
   "cell_type": "code",
   "execution_count": 3,
   "metadata": {},
   "outputs": [
    {
     "data": {
      "text/plain": [
       "<matplotlib.collections.PathCollection at 0x7f972d5e74e0>"
      ]
     },
     "execution_count": 3,
     "metadata": {},
     "output_type": "execute_result"
    },
    {
     "data": {
      "image/png": "[encoded data removed]",
      "text/plain": [
       "<Figure size 432x288 with 1 Axes>"
      ]
     },
     "metadata": {
      "needs_background": "light"
     },
     "output_type": "display_data"
    }
   ],
   "source": [
    "plt.plot(x,y)\n",
    "plt.scatter(x,y)"
   ]
  },
  {
   "cell_type": "code",
   "execution_count": 15,
   "metadata": {},
   "outputs": [],
   "source": [
    "def j(h,x, y, m): #custo, diz se esta bom ou ruim\n",
    "    sum_j = 0\n",
    "    for i in range(m):\n",
    "        sum_j += (h(x[i])-y[i])**2\n",
    "    return sum_j/(2*m)"
   ]
  },
  {
   "cell_type": "code",
   "execution_count": 24,
   "metadata": {},
   "outputs": [],
   "source": [
    "def gradient_descent(h,alpha, m, theta_0, theta_1):\n",
    "    ''' calcula o proximo valor (theta0, theta1) a partir do gradient da funcao J'''\n",
    "    sum_t0 = 0\n",
    "    sum_t1 = 0    \n",
    "    for i in range(m): #calculo da derivada parcial\n",
    "        e=h(x[i])-y[i] #vetor de erro\n",
    "        sum_t0 += e*1\n",
    "        sum_t1 += e*x[i]    \n",
    "    theta_0-= alpha*(sum_t0/m)\n",
    "    theta_1-= alpha*(sum_t1/m)\n",
    "    return theta_0, theta_1"
   ]
  },
  {
   "cell_type": "markdown",
   "metadata": {},
   "source": [
    "A ideia é que o nosso erro `j(h)` caia, pois assim podemos ver que o algoritmo esta funcionando"
   ]
  },
  {
   "cell_type": "code",
   "execution_count": 41,
   "metadata": {},
   "outputs": [
    {
     "data": {
      "text/plain": [
       "[<matplotlib.lines.Line2D at 0x7f9700fb92e8>]"
      ]
     },
     "execution_count": 41,
     "metadata": {},
     "output_type": "execute_result"
    },
    {
     "data": {
      "image/png": "[encoded data removed]",
      "text/plain": [
       "<Figure size 432x288 with 1 Axes>"
      ]
     },
     "metadata": {
      "needs_background": "light"
     },
     "output_type": "display_data"
    }
   ],
   "source": [
    "NO_IT = 10\n",
    "costs = []\n",
    "alpha=0.1\n",
    "t0,t1=0,0\n",
    "h=lambda x: t0+(t1*x) #o h pega os valores de theta, pois esta global e aplica na funcao\n",
    "for i in range(NO_IT):\n",
    "    j_value = j(h,x,y,len(x))\n",
    "    costs.append(j_value)\n",
    "#     print(f\"iteracao {i} : j(h)={j_value}\") #aplicado aq no j\n",
    "    t0,t1=gradient_descent(h,alpha, len(x),t0,t1)\n",
    "    #atualizando os valores theta\n",
    "    \n",
    "    \n",
    "#grafico do custo\n",
    "#o objetivo, e descer o mais rapido possivel, com o valor de alpha(taxa de aprendizado)\n",
    "plt.plot(range(NO_IT),costs)\n",
    "\n",
    "#para definir um limite no numero de iteracoes, basta entender que qnd o valor do custo chegou no 0, \n",
    "#e a partir dai tem um comportamento constante, nao tem mais o pq de mudar o alpha ou o numero de it"
   ]
  },
  {
   "cell_type": "code",
   "execution_count": null,
   "metadata": {},
   "outputs": [],
   "source": []
  }
 ],
 "metadata": {
  "kernelspec": {
   "display_name": "Python 3",
   "language": "python",
   "name": "python3"
  },
  "language_info": {
   "codemirror_mode": {
    "name": "ipython",
    "version": 3
   },
   "file_extension": ".py",
   "mimetype": "text/x-python",
   "name": "python",
   "nbconvert_exporter": "python",
   "pygments_lexer": "ipython3",
   "version": "3.6.8"
  }
 },
 "nbformat": 4,
 "nbformat_minor": 4
}
