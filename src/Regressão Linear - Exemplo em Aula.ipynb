{
 "cells": [
  {
   "cell_type": "code",
   "execution_count": 1,
   "metadata": {},
   "outputs": [],
   "source": [
    "import numpy as np\n",
    "import matplotlib.pyplot as plt\n",
    "import seaborn as sns\n",
    "%matplotlib inline"
   ]
  },
  {
   "cell_type": "markdown",
   "metadata": {},
   "source": [
    "Queremos chegar em"
   ]
  },
  {
   "cell_type": "code",
   "execution_count": 2,
   "metadata": {},
   "outputs": [],
   "source": [
    "x = [1,2]\n",
    "y = [1,2]"
   ]
  },
  {
   "cell_type": "code",
   "execution_count": 3,
   "metadata": {},
   "outputs": [
    {
     "data": {
      "text/plain": [
       "<matplotlib.collections.PathCollection at 0x7f972d5e74e0>"
      ]
     },
     "execution_count": 3,
     "metadata": {},
     "output_type": "execute_result"
    },
    {
     "data": {
      "image/png": "[encoded data removed]",
      "text/plain": [
       "<Figure size 432x288 with 1 Axes>"
      ]
     },
     "metadata": {
      "needs_background": "light"
     },
     "output_type": "display_data"
    }
   ],
   "source": [
    "plt.plot(x,y)\n",
    "plt.scatter(x,y)"
   ]
  },
  {
   "cell_type": "code",
   "execution_count": 15,
   "metadata": {},
   "outputs": [],
   "source": [
    "def j(h,x, y, m): #custo, diz se esta bom ou ruim\n",
    "    sum_j = 0\n",
    "    for i in range(m):\n",
    "        sum_j += (h(x[i])-y[i])**2\n",
    "    return sum_j/(2*m)"
   ]
  },
  {
   "cell_type": "code",
   "execution_count": 13,
   "metadata": {},
   "outputs": [],
   "source": [
    "def descent_gradient(h,alpha, m, theta_0, theta_1):\n",
    "    ''' calcula o proximo valor (theta0, theta1) a partir do gradient da funcao J'''\n",
    "    sum_t0 = 0\n",
    "    sum_t1 = 0    \n",
    "    for i in range(m): #calculo da derivada parcial\n",
    "        e=h(x[i])-y[i] #vetor de erro\n",
    "        sum_t0 += e*1\n",
    "        sum_t1 += e*x[i]    \n",
    "    theta_0-= alpha*(sum_t0/m)\n",
    "    theta_1-= alpha*(sum_t1/m)\n",
    "    return theta_0, theta_1"
   ]
  },
  {
   "cell_type": "markdown",
   "metadata": {},
   "source": [
    "A ideia é que o nosso erro `j(h)` caia, pois assim podemos ver que o algoritmo esta funcionando"
   ]
  },
  {
   "cell_type": "code",
   "execution_count": 22,
   "metadata": {},
   "outputs": [
    {
     "name": "stdout",
     "output_type": "stream",
     "text": [
      "iteracao 0 : j(h)=1.25\n",
      "iteracao 1 : j(h)=0.545625\n",
      "iteracao 2 : j(h)=0.24122812499999993\n",
      "iteracao 3 : j(h)=0.10963761328124995\n",
      "iteracao 4 : j(h)=0.052706934931640595\n",
      "iteracao 5 : j(h)=0.028033181176025414\n",
      "iteracao 6 : j(h)=0.017296727351526674\n",
      "iteracao 7 : j(h)=0.012582808927713898\n",
      "iteracao 8 : j(h)=0.01047194188057603\n",
      "iteracao 9 : j(h)=0.009486768072186524\n"
     ]
    }
   ],
   "source": [
    "alpha=0.1\n",
    "t0,t1=0,0\n",
    "h=lambda x: t0+(t1*x)\n",
    "for i in range(10):\n",
    "    print(f\"iteracao {i} : j(h)={j(h,x,y,len(x))}\")\n",
    "    t0,t1=theta_j(h,alpha, len(x),t0,t1)"
   ]
  },
  {
   "cell_type": "code",
   "execution_count": null,
   "metadata": {},
   "outputs": [],
   "source": []
  }
 ],
 "metadata": {
  "kernelspec": {
   "display_name": "Python 3",
   "language": "python",
   "name": "python3"
  },
  "language_info": {
   "codemirror_mode": {
    "name": "ipython",
    "version": 3
   },
   "file_extension": ".py",
   "mimetype": "text/x-python",
   "name": "python",
   "nbconvert_exporter": "python",
   "pygments_lexer": "ipython3",
   "version": "3.6.8"
  }
 },
 "nbformat": 4,
 "nbformat_minor": 4
}
